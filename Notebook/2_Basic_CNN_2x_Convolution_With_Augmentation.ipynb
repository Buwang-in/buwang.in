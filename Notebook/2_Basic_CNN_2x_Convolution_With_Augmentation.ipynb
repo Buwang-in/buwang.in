{
 "cells": [
  {
   "cell_type": "code",
   "execution_count": 1,
   "metadata": {
    "colab": {
     "base_uri": "https://localhost:8080/"
    },
    "id": "LjVE9FiMMuLk",
    "outputId": "3dff533a-8e4f-4992-d6b4-021a7e1e9e67"
   },
   "outputs": [
    {
     "name": "stdout",
     "output_type": "stream",
     "text": [
      "Mounted at /content/drive\n"
     ]
    }
   ],
   "source": [
    "# Mount Drive\n",
    "import os\n",
    "from google.colab import drive\n",
    "drive.mount('/content/drive')"
   ]
  },
  {
   "cell_type": "code",
   "execution_count": 2,
   "metadata": {
    "colab": {
     "base_uri": "https://localhost:8080/"
    },
    "id": "EGAKqL3RRVom",
    "outputId": "8848d744-f613-4074-c496-3d062777ebc2"
   },
   "outputs": [
    {
     "name": "stdout",
     "output_type": "stream",
     "text": [
      "Contents of base directory:\n",
      "['train', 'validation']\n",
      "\n",
      "Contents of train directory:\n",
      "['Kardus', 'Kaca (White & Green)', 'Plastik', 'Kertas', 'Logam', 'Organik', 'Botol Plastik', 'Botol Kaca']\n",
      "\n",
      "Contents of validation directory:\n",
      "['Kardus', 'Kaca (White & Green)', 'Plastik', 'Kertas', 'Logam', 'Organik', 'Botol Plastik', 'Botol Kaca']\n"
     ]
    }
   ],
   "source": [
    "base_dir = '/content/drive/Shareddrives/CAPSTONE C23-PS061/Dataset Split'\n",
    "\n",
    "print(\"Contents of base directory:\")\n",
    "print(os.listdir(base_dir))\n",
    "\n",
    "print(\"\\nContents of train directory:\")\n",
    "print(os.listdir(f'{base_dir}/train'))\n",
    "\n",
    "print(\"\\nContents of validation directory:\")\n",
    "print(os.listdir(f'{base_dir}/validation'))"
   ]
  },
  {
   "cell_type": "code",
   "execution_count": 1,
   "metadata": {},
   "outputs": [],
   "source": [
    "# RUN LOCAL ENVIRONTMENT\n",
    "import os\n",
    "base_dir = 'C:/Users/Zakaria/Bangkit/Dataset Split'"
   ]
  },
  {
   "cell_type": "code",
   "execution_count": 2,
   "metadata": {
    "colab": {
     "base_uri": "https://localhost:8080/"
    },
    "id": "h8bFiTs5R8tI",
    "outputId": "95061ad3-1e4c-47e5-d019-f8df7e600034"
   },
   "outputs": [
    {
     "name": "stdout",
     "output_type": "stream",
     "text": [
      "Number of files in each class (train):\n",
      "Botol Kaca: 698 files\n",
      "Botol Plastik: 700 files\n",
      "Kaca (White _ Green): 560 files\n",
      "Kardus: 623 files\n",
      "Kertas: 751 files\n",
      "Logam: 538 files\n",
      "Organik: 696 files\n",
      "Plastik: 691 files\n",
      "\n",
      "Number of files in each class (validation):\n",
      "Botol Kaca: 300 files\n",
      "Botol Plastik: 300 files\n",
      "Kaca (White _ Green): 241 files\n",
      "Kardus: 268 files\n",
      "Kertas: 322 files\n",
      "Logam: 231 files\n",
      "Organik: 299 files\n",
      "Plastik: 304 files\n"
     ]
    }
   ],
   "source": [
    "# Import train_dir & validation_dir\n",
    "train_dir = f'{base_dir}/train'\n",
    "validation_dir = f'{base_dir}/validation'\n",
    "\n",
    "# Print the number of files in each class for train and validation\n",
    "print(\"Number of files in each class (train):\")\n",
    "for class_folder in os.listdir(train_dir):\n",
    "    class_folder_path = os.path.join(train_dir, class_folder)\n",
    "    num_files = len(os.listdir(class_folder_path))\n",
    "    print(f\"{class_folder}: {num_files} files\")\n",
    "\n",
    "print(\"\\nNumber of files in each class (validation):\")\n",
    "for class_folder in os.listdir(validation_dir):\n",
    "    class_folder_path = os.path.join(validation_dir, class_folder)\n",
    "    num_files = len(os.listdir(class_folder_path))\n",
    "    print(f\"{class_folder}: {num_files} files\")\n"
   ]
  },
  {
   "cell_type": "code",
   "execution_count": 3,
   "metadata": {
    "id": "dRVv0UuxV7CC"
   },
   "outputs": [],
   "source": [
    "import tensorflow as tf\n",
    "\n",
    "# Menentukan dimensi gambar dan jumlah kelas\n",
    "image_width = 300\n",
    "image_height = 300\n",
    "num_classes = 8"
   ]
  },
  {
   "cell_type": "code",
   "execution_count": 4,
   "metadata": {
    "colab": {
     "base_uri": "https://localhost:8080/"
    },
    "id": "MvZ9-LTRlGqw",
    "outputId": "ec71c933-3649-45b6-a4e7-915e61317788"
   },
   "outputs": [
    {
     "name": "stdout",
     "output_type": "stream",
     "text": [
      "Found 5257 images belonging to 8 classes.\n",
      "Found 2265 images belonging to 8 classes.\n"
     ]
    }
   ],
   "source": [
    "from tensorflow.keras.preprocessing.image import ImageDataGenerator\n",
    "\n",
    "# Pra-pemrosesan dan augmentasi gambar menggunakan ImageDataGenerator\n",
    "train_datagen = ImageDataGenerator(rescale=1./255,  # Skala ulang intensitas pixel menjadi rentang 0-1\n",
    "                                   rotation_range=20,  # Rotasi acak gambar dalam rentang 0-20 derajat\n",
    "                                   #width_shift_range=0.2,  # Pergeseran horizontal acak pada gambar\n",
    "                                   #height_shift_range=0.2,  # Pergeseran vertikal acak pada gambar\n",
    "                                   horizontal_flip=True,  # Flip horizontal acak pada gambar\n",
    "                                   )  \n",
    "\n",
    "validation_datagen = ImageDataGenerator(rescale=1./255)  # Skala ulang intensitas pixel gambar validasi\n",
    "\n",
    "# Menggunakan ImageDataGenerator untuk memuat dan mempersiapkan data latihan\n",
    "train_generator = train_datagen.flow_from_directory(\n",
    "    train_dir,\n",
    "    target_size=(image_width, image_height),\n",
    "    batch_size=32,\n",
    "    class_mode='categorical')\n",
    "\n",
    "# Menggunakan ImageDataGenerator untuk memuat dan mempersiapkan data validasi\n",
    "validation_generator = validation_datagen.flow_from_directory(\n",
    "    validation_dir,\n",
    "    target_size=(image_width, image_height),\n",
    "    batch_size=32,\n",
    "    class_mode='categorical')"
   ]
  },
  {
   "cell_type": "code",
   "execution_count": 5,
   "metadata": {
    "id": "yDNrLQdBlO_P"
   },
   "outputs": [
    {
     "name": "stdout",
     "output_type": "stream",
     "text": [
      "Model: \"sequential\"\n",
      "_________________________________________________________________\n",
      "Layer (type)                 Output Shape              Param #   \n",
      "=================================================================\n",
      "conv2d (Conv2D)              (None, 298, 298, 32)      896       \n",
      "_________________________________________________________________\n",
      "max_pooling2d (MaxPooling2D) (None, 149, 149, 32)      0         \n",
      "_________________________________________________________________\n",
      "conv2d_1 (Conv2D)            (None, 147, 147, 64)      18496     \n",
      "_________________________________________________________________\n",
      "max_pooling2d_1 (MaxPooling2 (None, 73, 73, 64)        0         \n",
      "_________________________________________________________________\n",
      "flatten (Flatten)            (None, 341056)            0         \n",
      "_________________________________________________________________\n",
      "dense (Dense)                (None, 512)               174621184 \n",
      "_________________________________________________________________\n",
      "dense_1 (Dense)              (None, 8)                 4104      \n",
      "=================================================================\n",
      "Total params: 174,644,680\n",
      "Trainable params: 174,644,680\n",
      "Non-trainable params: 0\n",
      "_________________________________________________________________\n"
     ]
    }
   ],
   "source": [
    "# Membangun model CNN\n",
    "model = tf.keras.models.Sequential([\n",
    "    tf.keras.layers.Conv2D(32, (3, 3), activation='relu', input_shape=(image_width, image_height, 3)),\n",
    "    tf.keras.layers.MaxPooling2D((2, 2)),\n",
    "    tf.keras.layers.Conv2D(64, (3, 3), activation='relu'),\n",
    "    tf.keras.layers.MaxPooling2D((2, 2)),\n",
    "    tf.keras.layers.Flatten(),\n",
    "    tf.keras.layers.Dense(512, activation='relu'),\n",
    "    tf.keras.layers.Dense(num_classes, activation='softmax')\n",
    "])\n",
    "\n",
    "model.summary()"
   ]
  },
  {
   "cell_type": "code",
   "execution_count": 6,
   "metadata": {
    "id": "7IqRTJkPlXX2"
   },
   "outputs": [],
   "source": [
    "# Mengompilasi model\n",
    "model.compile(optimizer='adam',\n",
    "              loss='categorical_crossentropy',\n",
    "              metrics=['accuracy'])"
   ]
  },
  {
   "cell_type": "code",
   "execution_count": 7,
   "metadata": {
    "colab": {
     "base_uri": "https://localhost:8080/"
    },
    "id": "5ZShcUMulY57",
    "outputId": "327f73d5-3ff6-4980-bea7-9a2ea5c83d22"
   },
   "outputs": [
    {
     "name": "stdout",
     "output_type": "stream",
     "text": [
      "Epoch 1/10\n",
      "164/164 [==============================] - 731s 4s/step - loss: 3.7180 - accuracy: 0.3941 - val_loss: 1.2899 - val_accuracy: 0.5487\n",
      "Epoch 2/10\n",
      "164/164 [==============================] - 609s 4s/step - loss: 1.2565 - accuracy: 0.5657 - val_loss: 1.1762 - val_accuracy: 0.5665\n",
      "Epoch 3/10\n",
      "164/164 [==============================] - 438s 3s/step - loss: 1.0598 - accuracy: 0.6331 - val_loss: 1.0355 - val_accuracy: 0.6406\n",
      "Epoch 4/10\n",
      "164/164 [==============================] - 1846s 11s/step - loss: 0.9533 - accuracy: 0.6718 - val_loss: 1.0582 - val_accuracy: 0.6545\n",
      "Epoch 5/10\n",
      "164/164 [==============================] - 402s 2s/step - loss: 0.8495 - accuracy: 0.7079 - val_loss: 0.9453 - val_accuracy: 0.7040\n",
      "Epoch 6/10\n",
      "164/164 [==============================] - 427s 3s/step - loss: 0.7495 - accuracy: 0.7445 - val_loss: 0.9733 - val_accuracy: 0.6835\n",
      "Epoch 7/10\n",
      "164/164 [==============================] - 453s 3s/step - loss: 0.6669 - accuracy: 0.7694 - val_loss: 0.9262 - val_accuracy: 0.7103\n",
      "Epoch 8/10\n",
      "164/164 [==============================] - 464s 3s/step - loss: 0.6068 - accuracy: 0.8027 - val_loss: 0.8935 - val_accuracy: 0.7259\n",
      "Epoch 9/10\n",
      "164/164 [==============================] - 518s 3s/step - loss: 0.5336 - accuracy: 0.8193 - val_loss: 0.8789 - val_accuracy: 0.7460\n",
      "Epoch 10/10\n",
      "164/164 [==============================] - 529s 3s/step - loss: 0.4949 - accuracy: 0.8323 - val_loss: 0.9433 - val_accuracy: 0.7487\n"
     ]
    }
   ],
   "source": [
    "# Melatih model menggunakan data latihan dan validasi\n",
    "history = model.fit(\n",
    "    train_generator,\n",
    "    steps_per_epoch=train_generator.n // train_generator.batch_size,\n",
    "    epochs=10,\n",
    "    validation_data=validation_generator,\n",
    "    validation_steps=validation_generator.n // validation_generator.batch_size)\n"
   ]
  },
  {
   "cell_type": "code",
   "execution_count": 8,
   "metadata": {
    "id": "UEsoY9i0la6Z"
   },
   "outputs": [
    {
     "data": {
      "image/png": "[encoded data removed]",
      "text/plain": [
       "<Figure size 432x288 with 1 Axes>"
      ]
     },
     "metadata": {
      "needs_background": "light"
     },
     "output_type": "display_data"
    },
    {
     "data": {
      "image/png": "[encoded data removed]",
      "text/plain": [
       "<Figure size 432x288 with 1 Axes>"
      ]
     },
     "metadata": {
      "needs_background": "light"
     },
     "output_type": "display_data"
    }
   ],
   "source": [
    "import matplotlib.pyplot as plt\n",
    "\n",
    "# Mengambil nilai akurasi dan loss dari objek history\n",
    "accuracy = history.history['accuracy']\n",
    "loss = history.history['loss']\n",
    "val_accuracy = history.history['val_accuracy']\n",
    "\n",
    "# Menghitung jumlah epoch\n",
    "epochs = range(1, len(accuracy) + 1)\n",
    "\n",
    "# Plot akurasi training dan validation\n",
    "plt.plot(epochs, accuracy, 'b', label='Training Accuracy')\n",
    "plt.plot(epochs, val_accuracy, 'r', label='Validation Accuracy')\n",
    "plt.title('Training and Validation Accuracy')\n",
    "plt.xlabel('Epochs')\n",
    "plt.ylabel('Accuracy')\n",
    "plt.legend()\n",
    "plt.show()\n",
    "\n",
    "# Plot loss training\n",
    "plt.plot(epochs, loss, 'b', label='Training Loss')\n",
    "plt.title('Training Loss')\n",
    "plt.xlabel('Epochs')\n",
    "plt.ylabel('Loss')\n",
    "plt.legend()\n",
    "plt.show()\n"
   ]
  },
  {
   "cell_type": "code",
   "execution_count": 11,
   "metadata": {},
   "outputs": [],
   "source": [
    "# Menyimpan model UBAH JUDUL JANGAN LUPA : ) RUN ON LOCAL\n",
    "model.save('C:/Users/Zakaria/Bangkit/Model/model2xConvolutionalWithAugmentasi.h5')"
   ]
  },
  {
   "cell_type": "code",
   "execution_count": null,
   "metadata": {
    "id": "sBis6LB2wVbl"
   },
   "outputs": [],
   "source": [
    "# Menyimpan model UBAH JUDUL JANGAN LUPA : )\n",
    "model.save('/content/drive/Shareddrives/CAPSTONE C23-PS061/Model/model2xConvolutionalWithAugmentasi.h5')"
   ]
  }
 ],
 "metadata": {
  "accelerator": "GPU",
  "colab": {
   "gpuType": "T4",
   "provenance": []
  },
  "gpuClass": "standard",
  "kernelspec": {
   "display_name": "Python 3",
   "language": "python",
   "name": "python3"
  },
  "language_info": {
   "codemirror_mode": {
    "name": "ipython",
    "version": 3
   },
   "file_extension": ".py",
   "mimetype": "text/x-python",
   "name": "python",
   "nbconvert_exporter": "python",
   "pygments_lexer": "ipython3",
   "version": "3.8.5"
  }
 },
 "nbformat": 4,
 "nbformat_minor": 1
}
